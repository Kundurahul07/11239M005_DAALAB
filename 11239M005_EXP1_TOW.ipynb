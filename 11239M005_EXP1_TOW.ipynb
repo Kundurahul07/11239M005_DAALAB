{
  "nbformat": 4,
  "nbformat_minor": 0,
  "metadata": {
    "colab": {
      "provenance": [],
      "authorship_tag": "ABX9TyP5/08r04X5vdxLDol14RZN",
      "include_colab_link": true
    },
    "kernelspec": {
      "name": "python3",
      "display_name": "Python 3"
    },
    "language_info": {
      "name": "python"
    }
  },
  "cells": [
    {
      "cell_type": "markdown",
      "metadata": {
        "id": "view-in-github",
        "colab_type": "text"
      },
      "source": [
        "<a href=\"https://colab.research.google.com/github/Kundurahul07/11239M005_DAALAB/blob/main/11239M005_EXP1_TOW.ipynb\" target=\"_parent\"><img src=\"https://colab.research.google.com/assets/colab-badge.svg\" alt=\"Open In Colab\"/></a>"
      ]
    },
    {
      "cell_type": "code",
      "execution_count": 2,
      "metadata": {
        "colab": {
          "base_uri": "https://localhost:8080/"
        },
        "id": "tpQUENF6PNsX",
        "outputId": "22beb975-efec-4a85-ef39-1ba28b095efb"
      },
      "outputs": [
        {
          "output_type": "stream",
          "name": "stdout",
          "text": [
            "enter a number3\n",
            "move disk 1 from atoc\n",
            "move disk 2 from atob\n",
            "move disk 1 from ctob\n",
            "move disk 3 from atoc\n",
            "move disk 1 from btoa\n",
            "move disk 2 from btoc\n",
            "move disk 1 from atoc\n"
          ]
        }
      ],
      "source": [
        "def tower(n,source,aux,target):\n",
        "    if n==1:\n",
        "        print(f\"move disk 1 from {source}to{target}\")\n",
        "        return\n",
        "    tower(n-1,source,target,aux)\n",
        "    print(f\"move disk {n} from {source}to{target}\")\n",
        "    tower(n-1,aux,source,target)\n",
        "if __name__ == \"__main__\":\n",
        "    n=int(input(\"enter a number\"))\n",
        "    tower(n,'a','b','c')"
      ]
    }
  ]
}