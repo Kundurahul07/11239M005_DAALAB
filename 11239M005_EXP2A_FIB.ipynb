{
  "nbformat": 4,
  "nbformat_minor": 0,
  "metadata": {
    "colab": {
      "provenance": [],
      "authorship_tag": "ABX9TyNi3bf4OU5dyGT1zEp6qbSU",
      "include_colab_link": true
    },
    "kernelspec": {
      "name": "python3",
      "display_name": "Python 3"
    },
    "language_info": {
      "name": "python"
    }
  },
  "cells": [
    {
      "cell_type": "markdown",
      "metadata": {
        "id": "view-in-github",
        "colab_type": "text"
      },
      "source": [
        "<a href=\"https://colab.research.google.com/github/Kundurahul07/11239M005_DAALAB/blob/main/11239M005_EXP2A_FIB.ipynb\" target=\"_parent\"><img src=\"https://colab.research.google.com/assets/colab-badge.svg\" alt=\"Open In Colab\"/></a>"
      ]
    },
    {
      "cell_type": "code",
      "execution_count": 1,
      "metadata": {
        "colab": {
          "base_uri": "https://localhost:8080/"
        },
        "id": "bhW21Of5TO3y",
        "outputId": "b057f004-a678-4890-b5f7-1a9b0f129db0"
      },
      "outputs": [
        {
          "output_type": "stream",
          "name": "stdout",
          "text": [
            "enter a number:3\n",
            "0  1  1  "
          ]
        }
      ],
      "source": [
        "def fib(n):\n",
        "    if n<=1:\n",
        "        return n\n",
        "    else:\n",
        "        return fib(n-1)+fib(n-2)\n",
        "n=int(input(\"enter a number:\"))\n",
        "for i in range(n):\n",
        "    print(fib(i),end=\"  \")"
      ]
    }
  ]
}